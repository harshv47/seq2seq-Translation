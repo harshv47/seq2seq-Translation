{
  "nbformat": 4,
  "nbformat_minor": 0,
  "metadata": {
    "kernelspec": {
      "name": "python3",
      "display_name": "Python 3"
    },
    "language_info": {
      "name": "python",
      "version": "3.6.4",
      "mimetype": "text/x-python",
      "codemirror_mode": {
        "name": "ipython",
        "version": 3
      },
      "pygments_lexer": "ipython3",
      "nbconvert_exporter": "python",
      "file_extension": ".py"
    },
    "colab": {
      "name": "seq2seq-translator.ipynb",
      "provenance": [],
      "collapsed_sections": [],
      "include_colab_link": true
    },
    "accelerator": "GPU"
  },
  "cells": [
    {
      "cell_type": "markdown",
      "metadata": {
        "id": "view-in-github",
        "colab_type": "text"
      },
      "source": [
        "<a href=\"https://colab.research.google.com/github/harshv47/seq2seq-Translation/blob/master/seq2seq_translator.ipynb\" target=\"_parent\"><img src=\"https://colab.research.google.com/assets/colab-badge.svg\" alt=\"Open In Colab\"/></a>"
      ]
    },
    {
      "cell_type": "code",
      "metadata": {
        "_cell_guid": "b1076dfc-b9ad-4769-8c92-a6c4dae69d19",
        "_kg_hide-input": true,
        "_kg_hide-output": true,
        "_uuid": "8f2839f25d086af736a60e9eeb907d3b93b6e0e5",
        "trusted": true,
        "id": "v2VXGitsqIrg",
        "colab_type": "code",
        "colab": {}
      },
      "source": [
        "import numpy as np\n",
        "import pandas as pd\n",
        "import os"
      ],
      "execution_count": 0,
      "outputs": []
    },
    {
      "cell_type": "code",
      "metadata": {
        "id": "OmCs1d-gqmAi",
        "colab_type": "code",
        "colab": {
          "base_uri": "https://localhost:8080/",
          "height": 121
        },
        "outputId": "2d671023-0ce9-49fd-8d09-07ee24e3c29e"
      },
      "source": [
        "from google.colab import drive\n",
        "drive.mount('/content/drive')"
      ],
      "execution_count": 6,
      "outputs": [
        {
          "output_type": "stream",
          "text": [
            "Go to this URL in a browser: https://accounts.google.com/o/oauth2/auth?client_id=947318989803-6bn6qk8qdgf4n4g3pfee6491hc0brc4i.apps.googleusercontent.com&redirect_uri=urn%3aietf%3awg%3aoauth%3a2.0%3aoob&response_type=code&scope=email%20https%3a%2f%2fwww.googleapis.com%2fauth%2fdocs.test%20https%3a%2f%2fwww.googleapis.com%2fauth%2fdrive%20https%3a%2f%2fwww.googleapis.com%2fauth%2fdrive.photos.readonly%20https%3a%2f%2fwww.googleapis.com%2fauth%2fpeopleapi.readonly\n",
            "\n",
            "Enter your authorization code:\n",
            "··········\n",
            "Mounted at /content/drive\n"
          ],
          "name": "stdout"
        }
      ]
    },
    {
      "cell_type": "code",
      "metadata": {
        "_cell_guid": "79c7e3d0-c299-4dcb-8224-4455121ee9b0",
        "_kg_hide-output": true,
        "_uuid": "d629ff2d2480ee46fbb7e2d37f6b5fab8052498a",
        "trusted": true,
        "id": "DyFWudqNqIr5",
        "colab_type": "code",
        "colab": {}
      },
      "source": [
        "from keras.models import Model\n",
        "from keras.layers import Input, CuDNNLSTM, Dense\n",
        "import numpy as np\n",
        "\n",
        "from numpy.random import seed\n",
        "seed(1)\n",
        "\n",
        "from tensorflow import set_random_seed\n",
        "set_random_seed(2)"
      ],
      "execution_count": 0,
      "outputs": []
    },
    {
      "cell_type": "code",
      "metadata": {
        "_cell_guid": "fcd7da31-a545-41a8-ae89-376b2a8f25e8",
        "_uuid": "66c19897a47dc4565c6c24ed29d4dccada1f0d71",
        "trusted": true,
        "id": "kuZFz4ASqIsF",
        "colab_type": "code",
        "colab": {}
      },
      "source": [
        "batch_size = 64  # Batch size for training.\n",
        "epochs = 27  # Number of epochs to train for.\n",
        "latent_dim = 256  # Latent dimensionality of the encoding space.\n",
        "num_samples = 10000  # Number of samples to train on.\n",
        "# Path to the data txt file on disk.\n",
        "data_path = '/content/drive/My Drive/Dataset/seq2seq/fra.txt'"
      ],
      "execution_count": 0,
      "outputs": []
    },
    {
      "cell_type": "code",
      "metadata": {
        "trusted": true,
        "_uuid": "6c6891c41f2dfcd07554e5fc13eb7410dc432b4a",
        "id": "ix054I8_qIsS",
        "colab_type": "code",
        "colab": {}
      },
      "source": [
        "df = pd.read_csv(data_path,delimiter='\\t')"
      ],
      "execution_count": 0,
      "outputs": []
    },
    {
      "cell_type": "code",
      "metadata": {
        "trusted": true,
        "_uuid": "559cc4eb61559b022b732b38e3bbc6d8719fecd1",
        "id": "Nba-bFoLqIsY",
        "colab_type": "code",
        "colab": {
          "base_uri": "https://localhost:8080/",
          "height": 639
        },
        "outputId": "1a73ad96-620e-454e-e39a-bc92baa1a23a"
      },
      "source": [
        "df.head(20)"
      ],
      "execution_count": 34,
      "outputs": [
        {
          "output_type": "execute_result",
          "data": {
            "text/html": [
              "<div>\n",
              "<style scoped>\n",
              "    .dataframe tbody tr th:only-of-type {\n",
              "        vertical-align: middle;\n",
              "    }\n",
              "\n",
              "    .dataframe tbody tr th {\n",
              "        vertical-align: top;\n",
              "    }\n",
              "\n",
              "    .dataframe thead th {\n",
              "        text-align: right;\n",
              "    }\n",
              "</style>\n",
              "<table border=\"1\" class=\"dataframe\">\n",
              "  <thead>\n",
              "    <tr style=\"text-align: right;\">\n",
              "      <th></th>\n",
              "      <th>Go.</th>\n",
              "      <th>Va !</th>\n",
              "    </tr>\n",
              "  </thead>\n",
              "  <tbody>\n",
              "    <tr>\n",
              "      <th>0</th>\n",
              "      <td>Run!</td>\n",
              "      <td>Cours !</td>\n",
              "    </tr>\n",
              "    <tr>\n",
              "      <th>1</th>\n",
              "      <td>Run!</td>\n",
              "      <td>Courez !</td>\n",
              "    </tr>\n",
              "    <tr>\n",
              "      <th>2</th>\n",
              "      <td>Wow!</td>\n",
              "      <td>Ça alors !</td>\n",
              "    </tr>\n",
              "    <tr>\n",
              "      <th>3</th>\n",
              "      <td>Fire!</td>\n",
              "      <td>Au feu !</td>\n",
              "    </tr>\n",
              "    <tr>\n",
              "      <th>4</th>\n",
              "      <td>Help!</td>\n",
              "      <td>À l'aide !</td>\n",
              "    </tr>\n",
              "    <tr>\n",
              "      <th>5</th>\n",
              "      <td>Jump.</td>\n",
              "      <td>Saute.</td>\n",
              "    </tr>\n",
              "    <tr>\n",
              "      <th>6</th>\n",
              "      <td>Stop!</td>\n",
              "      <td>Ça suffit !</td>\n",
              "    </tr>\n",
              "    <tr>\n",
              "      <th>7</th>\n",
              "      <td>Stop!</td>\n",
              "      <td>Stop !</td>\n",
              "    </tr>\n",
              "    <tr>\n",
              "      <th>8</th>\n",
              "      <td>Stop!</td>\n",
              "      <td>Arrête-toi !</td>\n",
              "    </tr>\n",
              "    <tr>\n",
              "      <th>9</th>\n",
              "      <td>Wait!</td>\n",
              "      <td>Attends !</td>\n",
              "    </tr>\n",
              "    <tr>\n",
              "      <th>10</th>\n",
              "      <td>Wait!</td>\n",
              "      <td>Attendez !</td>\n",
              "    </tr>\n",
              "    <tr>\n",
              "      <th>11</th>\n",
              "      <td>I see.</td>\n",
              "      <td>Je comprends.</td>\n",
              "    </tr>\n",
              "    <tr>\n",
              "      <th>12</th>\n",
              "      <td>I try.</td>\n",
              "      <td>J'essaye.</td>\n",
              "    </tr>\n",
              "    <tr>\n",
              "      <th>13</th>\n",
              "      <td>I won!</td>\n",
              "      <td>J'ai gagné !</td>\n",
              "    </tr>\n",
              "    <tr>\n",
              "      <th>14</th>\n",
              "      <td>I won!</td>\n",
              "      <td>Je l'ai emporté !</td>\n",
              "    </tr>\n",
              "    <tr>\n",
              "      <th>15</th>\n",
              "      <td>Oh no!</td>\n",
              "      <td>Oh non !</td>\n",
              "    </tr>\n",
              "    <tr>\n",
              "      <th>16</th>\n",
              "      <td>Attack!</td>\n",
              "      <td>Attaque !</td>\n",
              "    </tr>\n",
              "    <tr>\n",
              "      <th>17</th>\n",
              "      <td>Attack!</td>\n",
              "      <td>Attaquez !</td>\n",
              "    </tr>\n",
              "    <tr>\n",
              "      <th>18</th>\n",
              "      <td>Cheers!</td>\n",
              "      <td>Santé !</td>\n",
              "    </tr>\n",
              "    <tr>\n",
              "      <th>19</th>\n",
              "      <td>Cheers!</td>\n",
              "      <td>À votre santé !</td>\n",
              "    </tr>\n",
              "  </tbody>\n",
              "</table>\n",
              "</div>"
            ],
            "text/plain": [
              "        Go.               Va !\n",
              "0      Run!            Cours !\n",
              "1      Run!           Courez !\n",
              "2      Wow!         Ça alors !\n",
              "3     Fire!           Au feu !\n",
              "4     Help!         À l'aide !\n",
              "5     Jump.             Saute.\n",
              "6     Stop!        Ça suffit !\n",
              "7     Stop!             Stop !\n",
              "8     Stop!       Arrête-toi !\n",
              "9     Wait!          Attends !\n",
              "10    Wait!         Attendez !\n",
              "11   I see.      Je comprends.\n",
              "12   I try.          J'essaye.\n",
              "13   I won!       J'ai gagné !\n",
              "14   I won!  Je l'ai emporté !\n",
              "15   Oh no!           Oh non !\n",
              "16  Attack!          Attaque !\n",
              "17  Attack!         Attaquez !\n",
              "18  Cheers!            Santé !\n",
              "19  Cheers!    À votre santé !"
            ]
          },
          "metadata": {
            "tags": []
          },
          "execution_count": 34
        }
      ]
    },
    {
      "cell_type": "code",
      "metadata": {
        "_cell_guid": "ea0e2e7f-f65e-4fe6-b75e-304efb56f04f",
        "_uuid": "06a6c35f13c93a188005227a3b98fc9b7b21a201",
        "trusted": true,
        "id": "3AggeXZEqIsk",
        "colab_type": "code",
        "colab": {
          "base_uri": "https://localhost:8080/",
          "height": 34
        },
        "outputId": "3d8bbc69-d146-4661-8864-8573fd1339e3"
      },
      "source": [
        "# Vectorize the data.\n",
        "input_texts = []\n",
        "target_texts = []\n",
        "input_characters = set()\n",
        "target_characters = set()\n",
        "\n",
        "# Looping over lines\n",
        "lines = open(data_path).read().split('\\n')\n",
        "for line in lines[: min(num_samples, len(lines) - 1)]:\n",
        "    # Input and target are split by tabs, English TAB French\n",
        "    input_text, target_text = line.split('\\t')\n",
        "    \n",
        "    # \"\\t\" is the \"start sequence\" character and \"\\n\" as \"end sequence\" character.\n",
        "    target_text = '\\t' + target_text + '\\n'\n",
        "    input_texts.append(input_text)\n",
        "    target_texts.append(target_text)\n",
        "    \n",
        "    # set of all unique characters in the input\n",
        "    for char in input_text:\n",
        "        if char not in input_characters:\n",
        "            input_characters.add(char)\n",
        "            \n",
        "    # set of all unique output characters\n",
        "    for char in target_text:\n",
        "        if char not in target_characters:\n",
        "            target_characters.add(char)\n",
        "\n",
        "print('Number of samples:', len(input_texts))"
      ],
      "execution_count": 35,
      "outputs": [
        {
          "output_type": "stream",
          "text": [
            "Number of samples: 10000\n"
          ],
          "name": "stdout"
        }
      ]
    },
    {
      "cell_type": "code",
      "metadata": {
        "_cell_guid": "de998ecc-341a-4a47-830a-1dc20f0ae904",
        "_uuid": "555c970d2117022365512bf3d84246a909f44fc2",
        "trusted": true,
        "id": "-2mGGK7qqIsn",
        "colab_type": "code",
        "colab": {
          "base_uri": "https://localhost:8080/",
          "height": 50
        },
        "outputId": "a9d6f1af-306d-4a78-db7f-6bc53a0ed90e"
      },
      "source": [
        "input_characters = sorted(list(input_characters)) # the order should be same in our input chars\n",
        "target_characters = sorted(list(target_characters))\n",
        "num_encoder_tokens = len(input_characters)\n",
        "num_decoder_tokens = len(target_characters)\n",
        "\n",
        "print('Number of unique input tokens:', num_encoder_tokens)\n",
        "print('Number of unique output tokens:', num_decoder_tokens)"
      ],
      "execution_count": 36,
      "outputs": [
        {
          "output_type": "stream",
          "text": [
            "Number of unique input tokens: 71\n",
            "Number of unique output tokens: 93\n"
          ],
          "name": "stdout"
        }
      ]
    },
    {
      "cell_type": "code",
      "metadata": {
        "_cell_guid": "b99e23e7-2faa-4ce7-a6f3-784e02ef46c7",
        "_uuid": "a52af2a93fd956dd9a33c02baf3aa5a73bd7a1ec",
        "trusted": true,
        "id": "YJG1Q6lYqIss",
        "colab_type": "code",
        "colab": {}
      },
      "source": [
        "# index maps character to number\n",
        "input_token_index = {char: i for i, char in enumerate(input_characters)}\n",
        "target_token_index = {char: i for i, char in enumerate(target_characters)}"
      ],
      "execution_count": 0,
      "outputs": []
    },
    {
      "cell_type": "code",
      "metadata": {
        "_cell_guid": "76afcd7b-23bd-44c3-b3fb-978cba081f21",
        "_uuid": "43f7153aa4595b48da4338c300712a7c16fcfa01",
        "trusted": true,
        "id": "JA_QRa9QqIsv",
        "colab_type": "code",
        "colab": {
          "base_uri": "https://localhost:8080/",
          "height": 34
        },
        "outputId": "d58a4675-7b69-425f-bf3d-b67ae967830d"
      },
      "source": [
        "# Test for tokens\n",
        "for c in 'the cat sits on the mat':\n",
        "    print(input_token_index[c], end = ' ')"
      ],
      "execution_count": 38,
      "outputs": [
        {
          "output_type": "stream",
          "text": [
            "63 51 48 0 46 44 63 0 62 52 63 62 0 58 57 0 63 51 48 0 56 44 63 "
          ],
          "name": "stdout"
        }
      ]
    },
    {
      "cell_type": "code",
      "metadata": {
        "_cell_guid": "7d4ad6ea-17fc-479a-87fe-3822fdd161c2",
        "_uuid": "b88478d0f15b9642f905395d8c45445f628719b2",
        "trusted": true,
        "id": "xw_jmkToqIsy",
        "colab_type": "code",
        "colab": {
          "base_uri": "https://localhost:8080/",
          "height": 50
        },
        "outputId": "23b0192e-c533-4295-bd90-bd41c04e9e21"
      },
      "source": [
        "max_encoder_seq_length = max([len(txt) for txt in input_texts]) # longest sequences length\n",
        "max_decoder_seq_length = max([len(txt) for txt in target_texts])\n",
        "\n",
        "print('Max sequence length for inputs:', max_encoder_seq_length)\n",
        "print('Max sequence length for outputs:', max_decoder_seq_length)"
      ],
      "execution_count": 39,
      "outputs": [
        {
          "output_type": "stream",
          "text": [
            "Max sequence length for inputs: 16\n",
            "Max sequence length for outputs: 59\n"
          ],
          "name": "stdout"
        }
      ]
    },
    {
      "cell_type": "code",
      "metadata": {
        "_cell_guid": "2c39c2c1-072c-4e5c-99bd-e13a62ebed04",
        "_uuid": "7231966fbdb13bffb3805d69856d354acb1d15ce",
        "trusted": true,
        "id": "79wcrQGLqIs1",
        "colab_type": "code",
        "colab": {}
      },
      "source": [
        "# encoder_input_data is a 3D array of shape(num_pairs, max_english_sentence_length, num_english_characters) \n",
        "# containing a one-hot vectorization of English sentences\n",
        "\n",
        "encoder_input_data = np.zeros(\n",
        "    (len(input_texts), max_encoder_seq_length, num_encoder_tokens),\n",
        "    dtype='float32')\n",
        "\n",
        "# decoder_input_data is a 3D array of shape(num_pairs, max_french_sentence_length, num_french_characters) \n",
        "# containg a one-hot vectorization of the French sentences\n",
        "\n",
        "decoder_input_data = np.zeros(\n",
        "    (len(input_texts), max_decoder_seq_length, num_decoder_tokens),\n",
        "    dtype='float32')\n",
        "\n",
        "# decoder_target_data[:, t, :] will be the same as decoder_input_data[:, t + 1, :]\n",
        "decoder_target_data = np.zeros(\n",
        "    (len(input_texts), max_decoder_seq_length, num_decoder_tokens),\n",
        "    dtype='float32')"
      ],
      "execution_count": 0,
      "outputs": []
    },
    {
      "cell_type": "code",
      "metadata": {
        "_cell_guid": "8d1014c8-82a6-4988-a31e-33bd3498b585",
        "_uuid": "d12785864708eaa8feec3b7aba862b02bec76e3b",
        "trusted": true,
        "id": "lXIHRJOVqIs4",
        "colab_type": "code",
        "colab": {}
      },
      "source": [
        "# Loop over input texts\n",
        "for i, (input_text, target_text) in enumerate(zip(input_texts, target_texts)):\n",
        "    # Loop over each char in an input text\n",
        "    for t, char in enumerate(input_text):\n",
        "        # Create one hot encoding by setting the index to 1\n",
        "        encoder_input_data[i, t, input_token_index[char]] = 1.\n",
        "    # Loop over each char in the output text\n",
        "    for t, char in enumerate(target_text):\n",
        "        # decoder_target_data is ahead of decoder_input_data by one timestep (,+1,)\n",
        "        decoder_input_data[i, t, target_token_index[char]] = 1.\n",
        "        if t > 0:\n",
        "            # decoder_target_data will be ahead by one timestep (,+1,)\n",
        "            # and will not include the start charcter\n",
        "            decoder_target_data[i, t - 1, target_token_index[char]] = 1."
      ],
      "execution_count": 0,
      "outputs": []
    },
    {
      "cell_type": "code",
      "metadata": {
        "_cell_guid": "909d7eb1-54f5-4b96-8745-34080104dcc4",
        "_uuid": "14f0c33f929a0ef7aaf1fa23cff824ecb4b4fe6f",
        "trusted": true,
        "id": "GkWIH22eqIs7",
        "colab_type": "code",
        "colab": {}
      },
      "source": [
        "\n",
        "# Define an input sequence and process it\n",
        "encoder_inputs = Input(shape=(None, num_encoder_tokens), \n",
        "                       name = 'encoder_inputs')\n",
        "\n",
        "# The return_state contructor argument, configuring a RNN layer to return a list \n",
        "# where the first entry is the outputs and the next entries are the internal RNN states\n",
        "# This is used to recover the states of the encoder\n",
        "encoder = CuDNNLSTM(latent_dim, \n",
        "                    return_state=True, \n",
        "                    name = 'encoder')\n",
        "\n",
        "encoder_outputs, state_h, state_c = encoder(encoder_inputs)\n",
        "# We discard `encoder_outputs` and only keep the states\n",
        "encoder_states = [state_h, state_c]\n",
        "\n",
        "# Set up the decoder, using `encoder_states` as initial state\n",
        "decoder_inputs = Input(shape=(None, num_decoder_tokens), \n",
        "                       name = 'decoder_inputs')\n",
        "\n",
        "# We set up our decoder to return full output sequences,\n",
        "# and to return internal states as well. We don't use the\n",
        "# return states in the training model, but we will use them in inference.\n",
        "decoder_lstm = CuDNNLSTM(latent_dim, \n",
        "                         return_sequences=True, \n",
        "                         return_state=True, \n",
        "                         name = 'decoder_lstm')\n",
        "\n",
        "# The inital_state call argument, specifying the initial state(s) of a RNN \n",
        "# This is used to pass the encoder states to the decoder as initial states\n",
        "# Basically making the first memory of the decoder the encoded semantics\n",
        "decoder_outputs, _, _ = decoder_lstm(decoder_inputs,\n",
        "                                     initial_state=encoder_states)\n",
        "\n",
        "decoder_dense = Dense(num_decoder_tokens, \n",
        "                      activation='softmax', \n",
        "                      name = 'decoder_dense')\n",
        "decoder_outputs = decoder_dense(decoder_outputs)\n",
        "\n",
        "# Define the model that will turn\n",
        "# `encoder_input_data` & `decoder_input_data` into `decoder_target_data`\n",
        "model = Model([encoder_inputs, decoder_inputs], decoder_outputs)"
      ],
      "execution_count": 0,
      "outputs": []
    },
    {
      "cell_type": "code",
      "metadata": {
        "_cell_guid": "1e70cde9-4c5d-4de2-8f41-90a7c5bd3475",
        "_kg_hide-output": true,
        "_uuid": "72492095eea44a02d9f392b2274606382cf11f64",
        "scrolled": true,
        "trusted": true,
        "id": "pE7QUmiCqIs-",
        "colab_type": "code",
        "colab": {
          "base_uri": "https://localhost:8080/",
          "height": 941
        },
        "outputId": "8e519ea5-706a-4160-f547-852e151fca13"
      },
      "source": [
        "# Run training\n",
        "model.compile(optimizer='rmsprop', loss='categorical_crossentropy')\n",
        "history = model.fit([encoder_input_data, decoder_input_data], \n",
        "                    decoder_target_data,\n",
        "                    batch_size=batch_size,\n",
        "                    epochs=epochs,\n",
        "                    validation_split=0.2)\n",
        "# Save model\n",
        "#model.save('s2s.h5')"
      ],
      "execution_count": 43,
      "outputs": [
        {
          "output_type": "stream",
          "text": [
            "Train on 8000 samples, validate on 2000 samples\n",
            "Epoch 1/27\n",
            "8000/8000 [==============================] - 3s 336us/step - loss: 0.9288 - val_loss: 0.9793\n",
            "Epoch 2/27\n",
            "8000/8000 [==============================] - 2s 261us/step - loss: 0.7443 - val_loss: 0.8026\n",
            "Epoch 3/27\n",
            "8000/8000 [==============================] - 2s 262us/step - loss: 0.6286 - val_loss: 0.7117\n",
            "Epoch 4/27\n",
            "8000/8000 [==============================] - 2s 261us/step - loss: 0.5679 - val_loss: 0.6596\n",
            "Epoch 5/27\n",
            "8000/8000 [==============================] - 2s 261us/step - loss: 0.5258 - val_loss: 0.6362\n",
            "Epoch 6/27\n",
            "8000/8000 [==============================] - 2s 261us/step - loss: 0.4941 - val_loss: 0.6039\n",
            "Epoch 7/27\n",
            "8000/8000 [==============================] - 2s 261us/step - loss: 0.4690 - val_loss: 0.5921\n",
            "Epoch 8/27\n",
            "8000/8000 [==============================] - 2s 261us/step - loss: 0.4476 - val_loss: 0.5714\n",
            "Epoch 9/27\n",
            "8000/8000 [==============================] - 2s 263us/step - loss: 0.4286 - val_loss: 0.5499\n",
            "Epoch 10/27\n",
            "8000/8000 [==============================] - 2s 257us/step - loss: 0.4112 - val_loss: 0.5392\n",
            "Epoch 11/27\n",
            "8000/8000 [==============================] - 2s 263us/step - loss: 0.3950 - val_loss: 0.5344\n",
            "Epoch 12/27\n",
            "8000/8000 [==============================] - 2s 264us/step - loss: 0.3802 - val_loss: 0.5221\n",
            "Epoch 13/27\n",
            "8000/8000 [==============================] - 2s 260us/step - loss: 0.3666 - val_loss: 0.5128\n",
            "Epoch 14/27\n",
            "8000/8000 [==============================] - 2s 262us/step - loss: 0.3535 - val_loss: 0.5085\n",
            "Epoch 15/27\n",
            "8000/8000 [==============================] - 2s 261us/step - loss: 0.3417 - val_loss: 0.5005\n",
            "Epoch 16/27\n",
            "8000/8000 [==============================] - 2s 262us/step - loss: 0.3303 - val_loss: 0.4951\n",
            "Epoch 17/27\n",
            "8000/8000 [==============================] - 2s 261us/step - loss: 0.3198 - val_loss: 0.4978\n",
            "Epoch 18/27\n",
            "8000/8000 [==============================] - 2s 262us/step - loss: 0.3095 - val_loss: 0.4959\n",
            "Epoch 19/27\n",
            "8000/8000 [==============================] - 2s 260us/step - loss: 0.2998 - val_loss: 0.4901\n",
            "Epoch 20/27\n",
            "8000/8000 [==============================] - 2s 264us/step - loss: 0.2906 - val_loss: 0.4920\n",
            "Epoch 21/27\n",
            "8000/8000 [==============================] - 2s 263us/step - loss: 0.2819 - val_loss: 0.4863\n",
            "Epoch 22/27\n",
            "8000/8000 [==============================] - 2s 266us/step - loss: 0.2731 - val_loss: 0.4898\n",
            "Epoch 23/27\n",
            "8000/8000 [==============================] - 2s 261us/step - loss: 0.2652 - val_loss: 0.4879\n",
            "Epoch 24/27\n",
            "8000/8000 [==============================] - 2s 262us/step - loss: 0.2573 - val_loss: 0.4913\n",
            "Epoch 25/27\n",
            "8000/8000 [==============================] - 2s 261us/step - loss: 0.2498 - val_loss: 0.4898\n",
            "Epoch 26/27\n",
            "8000/8000 [==============================] - 2s 259us/step - loss: 0.2431 - val_loss: 0.4883\n",
            "Epoch 27/27\n",
            "8000/8000 [==============================] - 2s 262us/step - loss: 0.2362 - val_loss: 0.4932\n"
          ],
          "name": "stdout"
        }
      ]
    },
    {
      "cell_type": "code",
      "metadata": {
        "_cell_guid": "55d758b0-b642-4974-b028-82f920d4602b",
        "_uuid": "ca7c6f484ebbe4aed426744aa2197cf194c3ba26",
        "trusted": true,
        "id": "rktMIr5kqItC",
        "colab_type": "code",
        "colab": {
          "base_uri": "https://localhost:8080/",
          "height": 428
        },
        "outputId": "0a28e355-7c79-443b-9e97-1f8a4ac62e3c"
      },
      "source": [
        "# The model is overfitting a bit\n",
        "import matplotlib.pyplot as plt\n",
        "plt.figure(figsize=(10,7))\n",
        "a, = plt.plot(history.history['loss'],label='Training Loss')\n",
        "b, = plt.plot(history.history['val_loss'],label='Validation Loss')\n",
        "plt.legend(handles=[a,b])\n",
        "plt.show()"
      ],
      "execution_count": 44,
      "outputs": [
        {
          "output_type": "display_data",
          "data": {
            "image/png": "[encoded data removed]",
            "text/plain": [
              "<Figure size 720x504 with 1 Axes>"
            ]
          },
          "metadata": {
            "tags": []
          }
        }
      ]
    },
    {
      "cell_type": "code",
      "metadata": {
        "_cell_guid": "239a7196-6485-4f65-8dea-4ca1a9aa87df",
        "_uuid": "1c10010e6db47a30edd82bee80e77a0241a79fcf",
        "trusted": true,
        "id": "p5e1N9CZqItI",
        "colab_type": "code",
        "colab": {}
      },
      "source": [
        "# Define encoder model\n",
        "encoder_model = Model(encoder_inputs, encoder_states)"
      ],
      "execution_count": 0,
      "outputs": []
    },
    {
      "cell_type": "code",
      "metadata": {
        "_cell_guid": "bb95b6a7-772b-458a-bd23-411e98e32205",
        "_uuid": "343f0049794312cf4fd1511c5f34ce36a9e26982",
        "trusted": true,
        "id": "RiE5sRdYqItK",
        "colab_type": "code",
        "colab": {}
      },
      "source": [
        "# Define decoder model\n",
        "\n",
        "# Inputs from the encoder\n",
        "decoder_state_input_h = Input(shape=(latent_dim,))\n",
        "decoder_state_input_c = Input(shape=(latent_dim,))\n",
        "\n",
        "# Create a combined memory to input into the decoder\n",
        "decoder_states_inputs = [decoder_state_input_h, decoder_state_input_c]\n",
        "\n",
        "# Decoder\n",
        "decoder_outputs, state_h, state_c = decoder_lstm(\n",
        "    decoder_inputs, initial_state=decoder_states_inputs)\n",
        "decoder_states = [state_h, state_c]\n",
        "\n",
        "# Predict next char\n",
        "decoder_outputs = decoder_dense(decoder_outputs)\n",
        "\n",
        "# The model takes in the encoder memory plus it's own memory as an input and spits out \n",
        "# a prediction plus its own memory to be used for the next char\n",
        "decoder_model = Model(\n",
        "    [decoder_inputs] + decoder_states_inputs,\n",
        "    [decoder_outputs] + decoder_states)"
      ],
      "execution_count": 0,
      "outputs": []
    },
    {
      "cell_type": "code",
      "metadata": {
        "_cell_guid": "5f19066a-c7e4-421b-a6cf-a2f463fd75fb",
        "_uuid": "c3c1dd185d7e8532f088903bf634f6c14d18fb2d",
        "trusted": true,
        "id": "sQwHfsSPqItO",
        "colab_type": "code",
        "colab": {}
      },
      "source": [
        "# Reverse-lookup token index to decode sequences back to\n",
        "# something readable.\n",
        "reverse_input_char_index = {i: char \n",
        "                            for char, i in input_token_index.items()}\n",
        "reverse_target_char_index = {i: char \n",
        "                             for char, i in target_token_index.items()}"
      ],
      "execution_count": 0,
      "outputs": []
    },
    {
      "cell_type": "code",
      "metadata": {
        "_cell_guid": "d6e067d6-e27f-47e9-b36d-8c8469fef085",
        "_uuid": "a1b14b5e6f0a1c34d6ffd3a27b302e79c0d31ea5",
        "trusted": true,
        "id": "I07PhNoNqItS",
        "colab_type": "code",
        "colab": {}
      },
      "source": [
        "def decode_sequence(input_seq):\n",
        "    # Encode the input as state vectors.\n",
        "    states_value = encoder_model.predict(input_seq)\n",
        "\n",
        "    # Generate empty target sequence of length 1.\n",
        "    target_seq = np.zeros((1, 1, num_decoder_tokens))\n",
        "    # Populate the first character of target sequence with the start character.\n",
        "    target_seq[0, 0, target_token_index['\\t']] = 1.\n",
        "\n",
        "    # Sampling loop for a batch of sequences\n",
        "    # (to simplify, here we assume a batch of size 1).\n",
        "    stop_condition = False\n",
        "    decoded_sentence = ''\n",
        "    \n",
        "    # Loop untilll we recieve a stop sign\n",
        "    while not stop_condition:\n",
        "        # Get output and internal states of the decoder \n",
        "        output_tokens, h, c = decoder_model.predict(\n",
        "            [target_seq] + states_value)\n",
        "\n",
        "        # Get the predicted token (the token with the highest score)\n",
        "        sampled_token_index = np.argmax(output_tokens[0, -1, :])\n",
        "        # Get the character belonging to the token\n",
        "        sampled_char = reverse_target_char_index[sampled_token_index]\n",
        "        # Append char to output\n",
        "        decoded_sentence += sampled_char\n",
        "\n",
        "        # Exit condition: either hit max length\n",
        "        # or find stop character.\n",
        "        if (sampled_char == '\\n' or\n",
        "           len(decoded_sentence) > max_decoder_seq_length):\n",
        "            stop_condition = True\n",
        "\n",
        "        # Update the target sequence (of length 1).\n",
        "        target_seq = np.zeros((1, 1, num_decoder_tokens))\n",
        "        target_seq[0, 0, sampled_token_index] = 1.\n",
        "\n",
        "        # Update states\n",
        "        states_value = [h, c]\n",
        "\n",
        "    return decoded_sentence"
      ],
      "execution_count": 0,
      "outputs": []
    },
    {
      "cell_type": "code",
      "metadata": {
        "_cell_guid": "c171e7a9-5642-43b8-ac4d-a0150ad20e14",
        "_uuid": "3a78fc8d64f0bca2650fd73c6356fd0b5a6bf171",
        "trusted": true,
        "id": "gCEeDKvmqItV",
        "colab_type": "code",
        "colab": {}
      },
      "source": [
        "test_text = 'Thanks'\n",
        "placeholder = np.zeros((1,len(test_text)+10,num_encoder_tokens))"
      ],
      "execution_count": 0,
      "outputs": []
    },
    {
      "cell_type": "code",
      "metadata": {
        "_cell_guid": "e211bbb7-1dc7-40aa-96b9-d9372adea403",
        "_uuid": "10d39df3fdd008e15853d873c4a496a0568a872a",
        "trusted": true,
        "id": "f57R21ocqItY",
        "colab_type": "code",
        "colab": {
          "base_uri": "https://localhost:8080/",
          "height": 118
        },
        "outputId": "f9b5bf41-5263-460c-9f42-5d3aafbb83f7"
      },
      "source": [
        "for i, char in enumerate(my_text):\n",
        "    print(i,char, input_token_index[char])\n",
        "    placeholder[0,i,input_token_index[char]] = 1"
      ],
      "execution_count": 26,
      "outputs": [
        {
          "output_type": "stream",
          "text": [
            "0 T 38\n",
            "1 h 51\n",
            "2 a 44\n",
            "3 n 57\n",
            "4 k 54\n",
            "5 s 62\n"
          ],
          "name": "stdout"
        }
      ]
    },
    {
      "cell_type": "code",
      "metadata": {
        "_cell_guid": "9c45d63b-fcec-4611-bc76-59b1c5322eb9",
        "_uuid": "d94521498349ca4e3a8010f283f9e4057a5b8e78",
        "trusted": true,
        "id": "2WuZJsZCqIta",
        "colab_type": "code",
        "colab": {
          "base_uri": "https://localhost:8080/",
          "height": 34
        },
        "outputId": "9701a7ba-3f3d-4aed-bfc4-f8813b8491a4"
      },
      "source": [
        "decode_sequence(placeholder)"
      ],
      "execution_count": 27,
      "outputs": [
        {
          "output_type": "execute_result",
          "data": {
            "text/plain": [
              "'Merci !\\n'"
            ]
          },
          "metadata": {
            "tags": []
          },
          "execution_count": 27
        }
      ]
    },
    {
      "cell_type": "code",
      "metadata": {
        "_cell_guid": "5f27b5be-c657-4b6e-8484-d53615f3fab8",
        "_uuid": "510249e948055ee16fe81474b22eafd3055bd310",
        "trusted": true,
        "id": "ip6Z-oylqItd",
        "colab_type": "code",
        "colab": {}
      },
      "source": [
        ""
      ],
      "execution_count": 0,
      "outputs": []
    },
    {
      "cell_type": "code",
      "metadata": {
        "trusted": true,
        "_uuid": "a7236af49fd8aaf72db105ec3d482687f4ae297a",
        "id": "kp2jbjAgqItg",
        "colab_type": "code",
        "colab": {}
      },
      "source": [
        ""
      ],
      "execution_count": 0,
      "outputs": []
    }
  ]
}